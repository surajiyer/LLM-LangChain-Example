{
 "cells": [
  {
   "cell_type": "code",
   "execution_count": null,
   "metadata": {},
   "outputs": [],
   "source": [
    "%load_ext autoreload\n",
    "%autoreload 2\n",
    "\n",
    "from collections import namedtuple\n",
    "from datetime import datetime\n",
    "import requests\n",
    "import sqlite3\n",
    "import sys\n",
    "import time\n",
    "\n",
    "from readability import Document\n",
    "from googlesearch import search\n",
    "\n",
    "sys.path.insert(0, \"..\")\n",
    "\n",
    "from src.vedastro_api import VedAstroApi"
   ]
  },
  {
   "cell_type": "markdown",
   "metadata": {},
   "source": [
    "# 1 Define astrological chart"
   ]
  },
  {
   "cell_type": "code",
   "execution_count": null,
   "metadata": {},
   "outputs": [],
   "source": [
    "location = \"Mumbai\"\n",
    "birth_datetime = \"20-03-1996 17:33\"\n",
    "api = VedAstroApi(location, birth_datetime)"
   ]
  },
  {
   "cell_type": "code",
   "execution_count": null,
   "metadata": {},
   "outputs": [],
   "source": [
    "response = api.get_planet_details()\n",
    "response"
   ]
  },
  {
   "cell_type": "code",
   "execution_count": null,
   "metadata": {},
   "outputs": [],
   "source": [
    "next(k for k in response if \"Rahu\" in k)[\"Rahu\"]"
   ]
  },
  {
   "cell_type": "code",
   "execution_count": null,
   "metadata": {},
   "outputs": [],
   "source": [
    "Planet = namedtuple(\"Planet\", [\"name\", \"house\", \"sign\", \"nakshatra\", \"combust\", \"retrograde\", \"karaka\"])\n",
    "Conjunction = namedtuple(\"Conjunction\", [\"planet1\", \"planet2\"])"
   ]
  },
  {
   "cell_type": "code",
   "execution_count": null,
   "metadata": {},
   "outputs": [],
   "source": [
    "chart = [\n",
    "    Planet(\"Sun\", 8, \"Pisces\", \"Uttara Bhadrapada\", False, False, \"Putra karaka\"),\n",
    "    Planet(\"Mercury\", 7, \"Aquarius\", \"Purva Bhadrapada\", False, False, \"Atma karaka\"),\n",
    "    Planet(\"Venus\", 9, \"Aries\", \"Bharani\", False, False, \"Amatya karaka\"),\n",
    "    Planet(\"Moon\", 8, \"Pisces\", \"Revati\", False, False, \"Matri karaka\"),\n",
    "    Planet(\"Mars\", 7, \"Pisces\", \"Purva Bhadrapada\", True, False, \"Dara karaka\"),\n",
    "    Planet(\"Jupiter\", 5, \"Sagittarius\", \"Purva Ashada\", False, False, \"Bhratri karaka\"),\n",
    "    Planet(\"Saturn\", 8, \"Pisces\", \"Uttara Bhadrapada\", True, False, \"Gnati karaka\"),\n",
    "    Planet(\"Rahu\", 2, \"Virgo\", \"Chitra\", False, True, None),\n",
    "    Planet(\"Ketu\", 8, \"Pisces\", \"Revati\", False, True, None),\n",
    "]\n",
    "conjunctions = [\n",
    "    Conjunction(\"Mercury\", \"Mars\"),\n",
    "    Conjunction(\"Mercury\", \"Saturn\"),\n",
    "    Conjunction(\"Mercury\", \"Sun\"),\n",
    "    Conjunction(\"Mars\", \"Saturn\"),\n",
    "    Conjunction(\"Mars\", \"Sun\"),\n",
    "    Conjunction(\"Saturn\", \"Sun\"),\n",
    "    Conjunction(\"Moon\", \"Ketu\"),\n",
    "]"
   ]
  },
  {
   "cell_type": "markdown",
   "metadata": {},
   "source": [
    "# 2 Retrieve relevant links"
   ]
  },
  {
   "cell_type": "code",
   "execution_count": null,
   "metadata": {},
   "outputs": [],
   "source": [
    "queries = []\n",
    "for planet in chart:\n",
    "    queries.append(f\"{planet.name} in {planet.house} house\")\n",
    "    queries.append(f\"{planet.name} in {planet.sign}\")\n",
    "    queries.append(f\"{planet.name} in {planet.nakshatra}\")\n",
    "queries"
   ]
  },
  {
   "cell_type": "code",
   "execution_count": null,
   "metadata": {},
   "outputs": [],
   "source": [
    "# google search\n",
    "urls = []\n",
    "pause_per_query = 3\n",
    "user_agent = 'Mozilla/5.0 (Macintosh; Intel Mac OS X 10.12; rv:55.0) Gecko/20100101 Firefox/55.0'\n",
    "for query in queries:\n",
    "\tquery += \" site:astrosaxena.in\"\n",
    "\tfor j in search(query, tld=\"co.in\", num=3, stop=3, pause=3, user_agent=user_agent):\n",
    "\t\turls.append(j)\n",
    "\ttime.sleep(pause_per_query)"
   ]
  },
  {
   "cell_type": "markdown",
   "metadata": {},
   "source": [
    "# 3 Extract content from links"
   ]
  },
  {
   "cell_type": "code",
   "execution_count": null,
   "metadata": {},
   "outputs": [],
   "source": [
    "def get_url_content(url: str):\n",
    "    response = requests.get(url, headers={'User-Agent': user_agent})\n",
    "    doc = Document(response.content)\n",
    "    soup = BeautifulSoup(doc.summary(), 'html.parser')\n",
    "    text = soup.get_text()\n",
    "    return doc.title(), text\n",
    "\n",
    "get_url_content(\"https://www.astrosaxena.in/astrology/info/703/concept-of-combust-planets\")"
   ]
  },
  {
   "cell_type": "code",
   "execution_count": null,
   "metadata": {},
   "outputs": [],
   "source": [
    "create_table_sql = \"\"\"\n",
    "create table if not exists knowledge_base (\n",
    "    id INTEGER primary key autoincrement,\n",
    "    url TEXT not null unique,\n",
    "    content TEXT not null,\n",
    "    created_at TIMESTAMP not null default CURRENT_TIMESTAMP,\n",
    ");\n",
    "\"\"\"\n",
    "connection = sqlite3.connect(\"astrosaxena.db\")\n",
    "cursor = connection.cursor()\n",
    "cursor.execute(create_table_sql)\n",
    "try:\n",
    "    for url in urls:\n",
    "        text = get_url_content(url)\n",
    "        cursor.execute(\"insert into knowledge_base values (url, content)\")\n",
    "        connection.commit()\n",
    "finally:\n",
    "    connection.close()"
   ]
  },
  {
   "cell_type": "markdown",
   "metadata": {},
   "source": [
    "# 4 Langchain"
   ]
  },
  {
   "cell_type": "code",
   "execution_count": null,
   "metadata": {},
   "outputs": [],
   "source": []
  }
 ],
 "metadata": {
  "kernelspec": {
   "display_name": "base",
   "language": "python",
   "name": "python3"
  },
  "language_info": {
   "codemirror_mode": {
    "name": "ipython",
    "version": 3
   },
   "file_extension": ".py",
   "mimetype": "text/x-python",
   "name": "python",
   "nbconvert_exporter": "python",
   "pygments_lexer": "ipython3",
   "version": "3.10.13"
  }
 },
 "nbformat": 4,
 "nbformat_minor": 2
}
